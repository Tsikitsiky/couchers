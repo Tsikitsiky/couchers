{
 "cells": [
  {
   "cell_type": "code",
   "execution_count": null,
   "metadata": {
    "ExecuteTime": {
     "end_time": "2021-08-21T07:02:20.086458Z",
     "start_time": "2021-08-21T07:02:19.786489Z"
    }
   },
   "outputs": [],
   "source": [
    "from dotenv import load_dotenv\n",
    "load_dotenv(\"readonly.env\")"
   ]
  },
  {
   "cell_type": "code",
   "execution_count": null,
   "metadata": {
    "ExecuteTime": {
     "end_time": "2021-08-21T07:08:47.125903Z",
     "start_time": "2021-08-21T07:08:47.103205Z"
    }
   },
   "outputs": [],
   "source": [
    "run helpers"
   ]
  },
  {
   "cell_type": "code",
   "execution_count": null,
   "metadata": {
    "ExecuteTime": {
     "end_time": "2021-08-21T07:11:07.606095Z",
     "start_time": "2021-08-21T07:11:00.371719Z"
    }
   },
   "outputs": [],
   "source": [
    "plt.figure(figsize=(16,9))\n",
    "users_per_day_plot(14)"
   ]
  },
  {
   "cell_type": "code",
   "execution_count": null,
   "metadata": {
    "ExecuteTime": {
     "end_time": "2021-08-21T07:12:28.272258Z",
     "start_time": "2021-08-21T07:12:21.566681Z"
    }
   },
   "outputs": [],
   "source": [
    "user_growth_plot(title=False)"
   ]
  }
 ],
 "metadata": {
  "kernelspec": {
   "display_name": "couchers",
   "language": "python",
   "name": "couchers"
  },
  "language_info": {
   "codemirror_mode": {
    "name": "ipython",
    "version": 3
   },
   "file_extension": ".py",
   "mimetype": "text/x-python",
   "name": "python",
   "nbconvert_exporter": "python",
   "pygments_lexer": "ipython3",
   "version": "3.8.10"
  },
  "varInspector": {
   "cols": {
    "lenName": 16,
    "lenType": 16,
    "lenVar": 40
   },
   "kernels_config": {
    "python": {
     "delete_cmd_postfix": "",
     "delete_cmd_prefix": "del ",
     "library": "var_list.py",
     "varRefreshCmd": "print(var_dic_list())"
    },
    "r": {
     "delete_cmd_postfix": ") ",
     "delete_cmd_prefix": "rm(",
     "library": "var_list.r",
     "varRefreshCmd": "cat(var_dic_list()) "
    }
   },
   "types_to_exclude": [
    "module",
    "function",
    "builtin_function_or_method",
    "instance",
    "_Feature"
   ],
   "window_display": false
  }
 },
 "nbformat": 4,
 "nbformat_minor": 5
}
