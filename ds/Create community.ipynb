{
 "cells": [
  {
   "cell_type": "code",
   "execution_count": 1,
   "metadata": {
    "ExecuteTime": {
     "end_time": "2021-08-18T15:45:54.298153Z",
     "start_time": "2021-08-18T15:45:53.813562Z"
    }
   },
   "outputs": [
    {
     "data": {
      "text/plain": [
       "True"
      ]
     },
     "execution_count": 1,
     "metadata": {},
     "output_type": "execute_result"
    }
   ],
   "source": [
    "from dotenv import load_dotenv\n",
    "load_dotenv(\"readwrite.env\")"
   ]
  },
  {
   "cell_type": "code",
   "execution_count": 2,
   "metadata": {
    "ExecuteTime": {
     "end_time": "2021-08-18T15:45:59.236832Z",
     "start_time": "2021-08-18T15:45:54.901786Z"
    }
   },
   "outputs": [],
   "source": [
    "from couchers.tasks import enforce_community_memberships"
   ]
  },
  {
   "cell_type": "code",
   "execution_count": 3,
   "metadata": {
    "ExecuteTime": {
     "end_time": "2021-08-18T15:46:03.590848Z",
     "start_time": "2021-08-18T15:45:59.282714Z"
    }
   },
   "outputs": [],
   "source": [
    "run helpers"
   ]
  },
  {
   "cell_type": "code",
   "execution_count": 5,
   "metadata": {
    "ExecuteTime": {
     "end_time": "2021-08-18T15:46:10.868564Z",
     "start_time": "2021-08-18T15:46:10.862468Z"
    }
   },
   "outputs": [],
   "source": [
    "community_name = \"Ankara\"\n",
    "lng = 32.85736083984375\n",
    "lat = 39.920269337633975\n",
    "admins = [\"solid\"]\n",
    "parent_community_id = 45"
   ]
  },
  {
   "cell_type": "code",
   "execution_count": 6,
   "metadata": {
    "ExecuteTime": {
     "end_time": "2021-08-18T15:46:12.015018Z",
     "start_time": "2021-08-18T15:46:12.003045Z"
    }
   },
   "outputs": [],
   "source": [
    "# make geojson on geojson.io\n",
    "geojson = \"\"\"{\n",
    "  \"type\": \"FeatureCollection\",\n",
    "  \"features\": [\n",
    "    {\n",
    "      \"type\": \"Feature\",\n",
    "      \"properties\": {},\n",
    "      \"geometry\": {\n",
    "        \"type\": \"Polygon\",\n",
    "        \"coordinates\": [\n",
    "          [\n",
    "            [\n",
    "              32.498931884765625,\n",
    "              40.113789191575236\n",
    "            ],\n",
    "            [\n",
    "              32.534637451171875,\n",
    "              39.7240885773337\n",
    "            ],\n",
    "            [\n",
    "              33.100433349609375,\n",
    "              39.72303232864369\n",
    "            ],\n",
    "            [\n",
    "              33.075714111328125,\n",
    "              40.18831582616864\n",
    "            ],\n",
    "            [\n",
    "              32.498931884765625,\n",
    "              40.113789191575236\n",
    "            ]\n",
    "          ]\n",
    "        ]\n",
    "      }\n",
    "    }\n",
    "  ]\n",
    "}\"\"\""
   ]
  },
  {
   "cell_type": "code",
   "execution_count": 9,
   "metadata": {
    "ExecuteTime": {
     "end_time": "2021-08-18T15:47:20.660402Z",
     "start_time": "2021-08-18T15:47:15.220734Z"
    }
   },
   "outputs": [],
   "source": [
    "with session_scope() as session:\n",
    "    w_id = create_community(\n",
    "        session=session, \n",
    "        geojson=geojson,\n",
    "        lat=lat,\n",
    "        lng=lng,\n",
    "        name=community_name,\n",
    "        cluster_description=f\"This is the {community_name} Couchers.org Community\",\n",
    "        main_page_title=community_name,\n",
    "        main_page_content = f\"Welcome to the {community_name} Couchers.org community! Description coming soon.\",\n",
    "        admin_usernames=admins,\n",
    "        parent_node_id=parent_community_id,\n",
    "    ).id"
   ]
  },
  {
   "cell_type": "code",
   "execution_count": null,
   "metadata": {
    "ExecuteTime": {
     "start_time": "2021-08-18T15:47:22.764Z"
    }
   },
   "outputs": [],
   "source": [
    "enforce_community_memberships()"
   ]
  },
  {
   "cell_type": "code",
   "execution_count": null,
   "metadata": {},
   "outputs": [],
   "source": []
  }
 ],
 "metadata": {
  "kernelspec": {
   "display_name": "couchers",
   "language": "python",
   "name": "couchers"
  },
  "language_info": {
   "codemirror_mode": {
    "name": "ipython",
    "version": 3
   },
   "file_extension": ".py",
   "mimetype": "text/x-python",
   "name": "python",
   "nbconvert_exporter": "python",
   "pygments_lexer": "ipython3",
   "version": "3.8.10"
  },
  "varInspector": {
   "cols": {
    "lenName": 16,
    "lenType": 16,
    "lenVar": 40
   },
   "kernels_config": {
    "python": {
     "delete_cmd_postfix": "",
     "delete_cmd_prefix": "del ",
     "library": "var_list.py",
     "varRefreshCmd": "print(var_dic_list())"
    },
    "r": {
     "delete_cmd_postfix": ") ",
     "delete_cmd_prefix": "rm(",
     "library": "var_list.r",
     "varRefreshCmd": "cat(var_dic_list()) "
    }
   },
   "types_to_exclude": [
    "module",
    "function",
    "builtin_function_or_method",
    "instance",
    "_Feature"
   ],
   "window_display": false
  }
 },
 "nbformat": 4,
 "nbformat_minor": 5
}
