{
 "cells": [
  {
   "cell_type": "code",
   "execution_count": null,
   "metadata": {
    "ExecuteTime": {
     "end_time": "2021-08-18T14:39:45.000797Z",
     "start_time": "2021-08-18T14:39:44.928223Z"
    }
   },
   "outputs": [],
   "source": [
    "import couchers\n",
    "import pytz\n",
    "from couchers.proto import pages_pb2, communities_pb2\n",
    "from google.protobuf import wrappers_pb2"
   ]
  },
  {
   "cell_type": "markdown",
   "metadata": {},
   "source": [
    "# Steps\n",
    "\n",
    "1. http://localhost:9999/notebooks/Add%20or%20Remove%20Admins.ipynb make yourself an admin\n",
    "2. Go to community local info page and upload photo, put it in the page\n",
    "3. find url for image, and get the photo key\n",
    "4. run this script with the community_id and photo key string\n",
    "5. remove image from the "
   ]
  },
  {
   "cell_type": "code",
   "execution_count": null,
   "metadata": {
    "ExecuteTime": {
     "end_time": "2021-08-18T14:39:45.765071Z",
     "start_time": "2021-08-18T14:39:45.756714Z"
    }
   },
   "outputs": [],
   "source": [
    "#prod\n",
    "client = couchers.get_client(\"\")\n",
    "\n",
    "#dev\n",
    "# client = couchers.get_client(\"\")"
   ]
  },
  {
   "cell_type": "code",
   "execution_count": null,
   "metadata": {
    "ExecuteTime": {
     "end_time": "2021-08-18T14:39:46.292242Z",
     "start_time": "2021-08-18T14:39:46.287150Z"
    }
   },
   "outputs": [],
   "source": [
    "community_id = \n",
    "image_string = \"\""
   ]
  },
  {
   "cell_type": "code",
   "execution_count": null,
   "metadata": {
    "ExecuteTime": {
     "end_time": "2021-08-18T14:39:49.127417Z",
     "start_time": "2021-08-18T14:39:47.500247Z"
    },
    "scrolled": true
   },
   "outputs": [],
   "source": [
    "# community_id from community URL\n",
    "res = client.communities.GetCommunity(\n",
    "    communities_pb2.GetCommunityReq(community_id=community_id)\n",
    ")\n",
    "\n",
    "# photo key from uploader\n",
    "client.pages.UpdatePage(\n",
    "    pages_pb2.UpdatePageReq(\n",
    "        page_id=res.main_page.page_id,\n",
    "        photo_key=wrappers_pb2.StringValue(value=image_string)\n",
    "    )\n",
    ")"
   ]
  }
 ],
 "metadata": {
  "kernelspec": {
   "display_name": "couchers",
   "language": "python",
   "name": "couchers"
  },
  "language_info": {
   "codemirror_mode": {
    "name": "ipython",
    "version": 3
   },
   "file_extension": ".py",
   "mimetype": "text/x-python",
   "name": "python",
   "nbconvert_exporter": "python",
   "pygments_lexer": "ipython3",
   "version": "3.8.10"
  },
  "varInspector": {
   "cols": {
    "lenName": 16,
    "lenType": 16,
    "lenVar": 40
   },
   "kernels_config": {
    "python": {
     "delete_cmd_postfix": "",
     "delete_cmd_prefix": "del ",
     "library": "var_list.py",
     "varRefreshCmd": "print(var_dic_list())"
    },
    "r": {
     "delete_cmd_postfix": ") ",
     "delete_cmd_prefix": "rm(",
     "library": "var_list.r",
     "varRefreshCmd": "cat(var_dic_list()) "
    }
   },
   "types_to_exclude": [
    "module",
    "function",
    "builtin_function_or_method",
    "instance",
    "_Feature"
   ],
   "window_display": false
  }
 },
 "nbformat": 4,
 "nbformat_minor": 4
}
